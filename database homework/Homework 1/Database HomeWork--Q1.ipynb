{
 "cells": [
  {
   "cell_type": "markdown",
   "id": "86f68a22",
   "metadata": {},
   "source": [
    "# Name-Ujjwal Sahu\n",
    "## Std. Id- M11115817\n",
    "### Master Degree Student"
   ]
  },
  {
   "cell_type": "markdown",
   "id": "59ddf36a",
   "metadata": {},
   "source": [
    "Database Homework 1\n",
    "\n",
    "(A) Python OO: Superclass and superclass, and attribute inheritance are two key concepts in the Enhanced ER model. The same concepts have been introduced in object-oriented programming. \n",
    "Please use Python to implement superclass and subclass, specifically,\n",
    "\n",
    "Implement the employee as a superclass and secretary, engineer and technician, shown in slides 4-9 of the chapter 4, as subclasses.\n",
    "\n",
    "initialize objects for secretary, engineer and technician respectively \n",
    "\n",
    "Print out the secretary'S SSN, engineer type.\n",
    "\n",
    "Submit your code with execution results \n",
    "\n",
    "If you have not used Python before, you can download Python from the following website https://www.python.org\n",
    "\n",
    "\n"
   ]
  },
  {
   "cell_type": "markdown",
   "id": "e9b3ec2f",
   "metadata": {},
   "source": [
    "(A) Python OO: Superclass and Subclass, and attribute inheritance are two key concepts in the Enhanced ER model. The same concepts have been introduced in object-oriented programming.\n",
    "\n",
    "-The concepts of superclass and subclass, and attribute inheritance are fundamental concepts in Object-Oriented Programming (OOP), and they are not directly related to the Enhanced Entity-Relationship (ER) model.\n",
    "-In OOP, a class is a blueprint for creating objects that define the properties and behaviors of those objects. A superclass is a class that is higher in the hierarchy than another class, while a subclass is a class that inherits properties and methods from its superclass.\n",
    "\n",
    "-When a subclass inherits from a superclass, it automatically inherits all the attributes and methods of its superclass. This is known as attribute inheritance, which allows the subclass to reuse the code of the superclass, and add or modify its own attributes and methods.\n",
    "\n",
    "-The concepts of superclass and subclass, and attribute inheritance are fundamental to OOP, and are used to create hierarchical relationships between classes and to reuse and extend code. They are not directly related to the Enhanced ER model, which is a conceptual data model used to represent data and relationships in a database system.\n",
    "\n"
   ]
  },
  {
   "cell_type": "code",
   "execution_count": 2,
   "id": "52f167b0",
   "metadata": {},
   "outputs": [],
   "source": [
    "class Name:\n",
    "    def __init__(self, fname, midname, lastname):\n",
    "        self.fname = fname\n",
    "        self.midname = midname\n",
    "        self.lastname = lastname\n",
    "\n",
    "class Employee:\n",
    "    def __init__(self, fname, midname, lastname, ssn, birth_date, address, job_type):\n",
    "        self.name = Name(fname, midname, lastname)\n",
    "        self.ssn = ssn\n",
    "        self.birth_date = birth_date\n",
    "        self.address = address\n",
    "        self.job_type = job_type\n",
    "\n",
    "class Secretary(Employee):\n",
    "    def __init__(self, fname, midname, lastname, ssn, birth_date, address, typing_speed):\n",
    "        super().__init__(fname, midname, lastname, ssn, birth_date, address, \"Secretary\")\n",
    "        self.typing_speed = typing_speed\n",
    "\n",
    "class Engineer(Employee):\n",
    "    def __init__(self, fname, midname, lastname, ssn, birth_date, address, eng_type):\n",
    "        super().__init__(fname, midname, lastname, ssn, birth_date, address, \"Engineer\")\n",
    "        self.eng_type = eng_type\n",
    "\n",
    "class Technician(Employee):\n",
    "    def __init__(self, fname, midname, lastname, ssn, birth_date, address, tgrade):\n",
    "        super().__init__(fname, midname, lastname, ssn, birth_date, address, \"Technician\")\n",
    "        self.tgrade = tgrade\n",
    "\n",
    "\n",
    "\n"
   ]
  },
  {
   "cell_type": "code",
   "execution_count": 3,
   "id": "ba2d3679",
   "metadata": {},
   "outputs": [],
   "source": [
    "def main():\n",
    "    secretary = Secretary(\"Jane\", \"Doe\", \"Smith\", \"123-45-6789\", \"01/01/1990\", \"123 Main St\", 80)\n",
    "    engineer = Engineer(\"John\", \"Doe\", \"Johnson\", \"987-65-4321\", \"02/02/1980\", \"456 Park Ave\", \"Mechanical\")\n",
    "    technician = Technician(\"Mary\", \"Johnson\", \"Garcia\", \"555-55-5555\", \"03/03/1970\", \"789 Broadway\", \"Grade A\")\n",
    "    \n",
    "    \n",
    "    \n",
    "    #Print out the secretary'S SSN, & engineer type.--------------------------------------------------------\n",
    "\n",
    "    \n",
    "    \n",
    "    print(\"Secretary:\")\n",
    "   # print(\"Name:\", secretary.name.fname, secretary.name.midname, secretary.name.lastname)\n",
    "    print(\"SSN:\", secretary.ssn)\n",
    "  #  print(\"Birth Date:\", secretary.birth_date)\n",
    "   # print(\"Address:\", secretary.address)\n",
    "    print(\"Job Type:\", secretary.job_type)\n",
    "   # print(\"Typing Speed:\", secretary.typing_speed)\n",
    "\n",
    "\n",
    "    print(\"Engineer:\")\n",
    "    #print(\"Name:\", engineer.name.fname, engineer.name.midname, engineer.name.lastname)\n",
    "    #print(\"SSN:\", engineer.ssn)\n",
    "    #print(\"Birth Date:\", engineer.birth_date)\n",
    "    #print(\"Address:\", engineer.address)\n",
    "    #print(\"Job Type:\", engineer.job_type)\n",
    "    print(\"Engineering Type:\", engineer.eng_type)"
   ]
  },
  {
   "cell_type": "code",
   "execution_count": 4,
   "id": "2669566d",
   "metadata": {},
   "outputs": [
    {
     "data": {
      "text/plain": [
       "' \\n    print(\"Technician:\")\\n    print(\"Name:\", technician.name.fname, technician.name.midname, technician.name.lastname)\\n    print(\"SSN:\", technician.ssn)\\n    print(\"Birth Date:\", technician.birth_date)\\n    print(\"Address:\", technician.address)\\n    print(\"Job Type:\", technician.job_type)\\n    print(\"Technician Grade:\", technician.tgrade)\\n'"
      ]
     },
     "execution_count": 4,
     "metadata": {},
     "output_type": "execute_result"
    }
   ],
   "source": [
    "''' \n",
    "    print(\"Technician:\")\n",
    "    print(\"Name:\", technician.name.fname, technician.name.midname, technician.name.lastname)\n",
    "    print(\"SSN:\", technician.ssn)\n",
    "    print(\"Birth Date:\", technician.birth_date)\n",
    "    print(\"Address:\", technician.address)\n",
    "    print(\"Job Type:\", technician.job_type)\n",
    "    print(\"Technician Grade:\", technician.tgrade)\n",
    "'''"
   ]
  },
  {
   "cell_type": "code",
   "execution_count": 5,
   "id": "a1009935",
   "metadata": {},
   "outputs": [
    {
     "name": "stdout",
     "output_type": "stream",
     "text": [
      "Secretary:\n",
      "SSN: 123-45-6789\n",
      "Job Type: Secretary\n",
      "Engineer:\n",
      "Engineering Type: Mechanical\n"
     ]
    }
   ],
   "source": [
    "if __name__ == \"__main__\":\n",
    "    main()\n",
    "\n"
   ]
  },
  {
   "cell_type": "code",
   "execution_count": 6,
   "id": "9f0d86e5",
   "metadata": {},
   "outputs": [],
   "source": [
    "class Name:\n",
    "    def __init__(self, fname, midname, lastname):\n",
    "        self.fname = fname\n",
    "        self.midname = midname\n",
    "        self.lastname = lastname\n",
    "\n",
    "class Employee:\n",
    "    def __init__(self, fname, midname, lastname, ssn, birth_date, address, job_type):\n",
    "        self.name = Name(fname, midname, lastname)\n",
    "        self.ssn = ssn\n",
    "        self.birth_date = birth_date\n",
    "        self.address = address\n",
    "        self.job_type = job_type\n",
    "\n",
    "class Secretary(Employee):\n",
    "    def __init__(self, fname, midname, lastname, ssn, birth_date, address, typing_speed):\n",
    "        super().__init__(fname, midname, lastname, ssn, birth_date, address, \"Secretary\")\n",
    "        self.typing_speed = typing_speed\n",
    "\n",
    "class Engineer(Employee):\n",
    "    def __init__(self, fname, midname, lastname, ssn, birth_date, address, eng_type):\n",
    "        super().__init__(fname, midname, lastname, ssn, birth_date, address, \"Engineer\")\n",
    "        self.eng_type = eng_type\n",
    "\n",
    "class Technician(Employee):\n",
    "    def __init__(self, fname, midname, lastname, ssn, birth_date, address, tgrade):\n",
    "        super().__init__(fname, midname, lastname, ssn, birth_date, address, \"Technician\")\n",
    "        self.tgrade = tgrade\n"
   ]
  },
  {
   "cell_type": "code",
   "execution_count": 7,
   "id": "55028908",
   "metadata": {},
   "outputs": [],
   "source": [
    "def main():\n",
    "    secretary = Secretary(\"Jane\", \"Doe\", \"Smith\", \"123-45-6789\", \"01/01/1990\", \"123 Main St\", 80)\n",
    "    engineer = Engineer(\"John\", \"Doe\", \"Johnson\", \"987-65-4321\", \"02/02/1980\", \"456 Park Ave\", \"Mechanical\")\n",
    "    technician = Technician(\"Mary\", \"Johnson\", \"Garcia\", \"555-55-5555\", \"03/03/1970\", \"789 Broadway\", \"Grade A\")\n",
    "    \n",
    "    \n",
    "    \n",
    "    # printout the whole code------------------------------------------------------------------------------\n",
    "    \n",
    "    \n",
    "    print(\"Secretary:\")\n",
    "    print(\"Name:\", secretary.name.fname, secretary.name.midname, secretary.name.lastname)\n",
    "    print(\"SSN:\", secretary.ssn)\n",
    "    print(\"Birth Date:\", secretary.birth_date)\n",
    "    print(\"Address:\", secretary.address)\n",
    "    print(\"Job Type:\", secretary.job_type)\n",
    "    print(\"Typing Speed:\", secretary.typing_speed)\n",
    "    \n",
    "    print(\"\\nEngineer:\")\n",
    "    print(\"Name:\", engineer.name.fname, engineer.name.midname, engineer.name.lastname)\n",
    "    print(\"SSN:\", engineer.ssn)\n",
    "    print(\"Birth Date:\", engineer.birth_date)\n",
    "    print(\"Address:\", engineer.address)\n",
    "    print(\"Job Type:\", engineer.job_type)\n",
    "    print(\"Engineering Type:\", engineer.eng_type)\n",
    "    \n",
    "    print(\"\\nTechnician:\")\n",
    "    print(\"Name:\", technician.name.fname, technician.name.midname, technician.name.lastname)\n",
    "    print(\"SSN:\", technician.ssn)\n",
    "    print(\"Birth Date:\", technician.birth_date)\n",
    "    print(\"Address:\", technician.address)\n",
    "    print(\"Job Type:\", technician.job_type)\n",
    "    print(\"Technician Grade:\", technician.tgrade)\n"
   ]
  },
  {
   "cell_type": "code",
   "execution_count": 8,
   "id": "c58189e6",
   "metadata": {},
   "outputs": [
    {
     "name": "stdout",
     "output_type": "stream",
     "text": [
      "Secretary:\n",
      "Name: Jane Doe Smith\n",
      "SSN: 123-45-6789\n",
      "Birth Date: 01/01/1990\n",
      "Address: 123 Main St\n",
      "Job Type: Secretary\n",
      "Typing Speed: 80\n",
      "\n",
      "Engineer:\n",
      "Name: John Doe Johnson\n",
      "SSN: 987-65-4321\n",
      "Birth Date: 02/02/1980\n",
      "Address: 456 Park Ave\n",
      "Job Type: Engineer\n",
      "Engineering Type: Mechanical\n",
      "\n",
      "Technician:\n",
      "Name: Mary Johnson Garcia\n",
      "SSN: 555-55-5555\n",
      "Birth Date: 03/03/1970\n",
      "Address: 789 Broadway\n",
      "Job Type: Technician\n",
      "Technician Grade: Grade A\n"
     ]
    }
   ],
   "source": [
    "if __name__ == \"__main__\":\n",
    "    main()\n"
   ]
  },
  {
   "cell_type": "code",
   "execution_count": null,
   "id": "90fa15c6",
   "metadata": {},
   "outputs": [],
   "source": []
  }
 ],
 "metadata": {
  "kernelspec": {
   "display_name": "Python 3 (ipykernel)",
   "language": "python",
   "name": "python3"
  },
  "language_info": {
   "codemirror_mode": {
    "name": "ipython",
    "version": 3
   },
   "file_extension": ".py",
   "mimetype": "text/x-python",
   "name": "python",
   "nbconvert_exporter": "python",
   "pygments_lexer": "ipython3",
   "version": "3.10.9"
  }
 },
 "nbformat": 4,
 "nbformat_minor": 5
}
